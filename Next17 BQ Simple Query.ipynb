{
 "cells": [
  {
   "cell_type": "markdown",
   "metadata": {},
   "source": [
    "## Full scan on 10B rows of Wikimedia logs"
   ]
  },
  {
   "cell_type": "code",
   "execution_count": 11,
   "metadata": {
    "collapsed": false
   },
   "outputs": [
    {
     "data": {
      "text/html": [
       "\n",
       "    <div class=\"bqtv\" id=\"11_148910686313\"><table><tr><th>title</th><th>views</th></tr><tr><td>Diddy Dirty Money Feat Skepta Hello Good Morning Grime Remix</td><td>359</td></tr><tr><td>[eng Subs] Snsd Hello Baby 17 Part 1</td><td>229</td></tr><tr><td>Diddy Feat Booba Hello Good Morning</td><td>185</td></tr><tr><td>Girls' Generation's Hello Baby</td><td>165</td></tr><tr><td>Hello Muddah, Hello Fadduh</td><td>158</td></tr><tr><td>The Adventures of Hello Kitty &amp; Friends</td><td>91</td></tr><tr><td>Diddy Ft Skepta Hello Good Morning Grime Remix</td><td>86</td></tr><tr><td>Say Hello To Tragedy</td><td>82</td></tr><tr><td>Oracle Bpel Hello World Example</td><td>76</td></tr><tr><td>The Animaniacs Hello Nurse Song Original</td><td>69</td></tr></table></div>\n",
       "    <br />(rows: 10, time: 3.9s,   399GB processed, job: job_UuAyRyG0NVWC-zh99KA9L9V0Btk)<br />\n",
       "    <script>\n",
       "\n",
       "      require.config({\n",
       "        paths: {\n",
       "          d3: '//cdnjs.cloudflare.com/ajax/libs/d3/3.4.13/d3',\n",
       "          plotly: 'https://cdn.plot.ly/plotly-1.5.1.min.js?noext',\n",
       "          jquery: '//ajax.googleapis.com/ajax/libs/jquery/2.0.0/jquery.min'\n",
       "        },\n",
       "        map: {\n",
       "          '*': {\n",
       "            datalab: 'nbextensions/gcpdatalab'\n",
       "          }\n",
       "        },\n",
       "        shim: {\n",
       "          plotly: {\n",
       "            deps: ['d3', 'jquery'],\n",
       "            exports: 'plotly'\n",
       "          }\n",
       "        }\n",
       "      });\n",
       "\n",
       "      require(['datalab/charting', 'datalab/element!11_148910686313', 'base/js/events',\n",
       "          'datalab/style!/nbextensions/gcpdatalab/charting.css'],\n",
       "        function(charts, dom, events) {\n",
       "          charts.render('gcharts', dom, events, 'table', [], {\"rows\": [{\"c\": [{\"v\": \"Diddy Dirty Money Feat Skepta Hello Good Morning Grime Remix\"}, {\"v\": 359}]}, {\"c\": [{\"v\": \"[eng Subs] Snsd Hello Baby 17 Part 1\"}, {\"v\": 229}]}, {\"c\": [{\"v\": \"Diddy Feat Booba Hello Good Morning\"}, {\"v\": 185}]}, {\"c\": [{\"v\": \"Girls' Generation's Hello Baby\"}, {\"v\": 165}]}, {\"c\": [{\"v\": \"Hello Muddah, Hello Fadduh\"}, {\"v\": 158}]}, {\"c\": [{\"v\": \"The Adventures of Hello Kitty & Friends\"}, {\"v\": 91}]}, {\"c\": [{\"v\": \"Diddy Ft Skepta Hello Good Morning Grime Remix\"}, {\"v\": 86}]}, {\"c\": [{\"v\": \"Say Hello To Tragedy\"}, {\"v\": 82}]}, {\"c\": [{\"v\": \"Oracle Bpel Hello World Example\"}, {\"v\": 76}]}, {\"c\": [{\"v\": \"The Animaniacs Hello Nurse Song Original\"}, {\"v\": 69}]}], \"cols\": [{\"type\": \"string\", \"id\": \"title\", \"label\": \"title\"}, {\"type\": \"number\", \"id\": \"views\", \"label\": \"views\"}]},\n",
       "            {\n",
       "              pageSize: 25,\n",
       "              cssClassNames:  {\n",
       "                tableRow: 'gchart-table-row',\n",
       "                headerRow: 'gchart-table-headerrow',\n",
       "                oddTableRow: 'gchart-table-oddrow',\n",
       "                selectedTableRow: 'gchart-table-selectedrow',\n",
       "                hoverTableRow: 'gchart-table-hoverrow',\n",
       "                tableCell: 'gchart-table-cell',\n",
       "                headerCell: 'gchart-table-headercell',\n",
       "                rowNumberCell: 'gchart-table-rownumcell'\n",
       "              }\n",
       "            },\n",
       "            {source_index: 7, fields: 'title,views'},\n",
       "            0,\n",
       "            10);\n",
       "        }\n",
       "      );\n",
       "    </script>\n",
       "  "
      ],
      "text/plain": [
       "QueryResultsTable job_UuAyRyG0NVWC-zh99KA9L9V0Btk"
      ]
     },
     "execution_count": 11,
     "metadata": {},
     "output_type": "execute_result"
    }
   ],
   "source": [
    "%%sql\n",
    "SELECT\n",
    "  title,\n",
    "  SUM(views) AS views\n",
    "FROM\n",
    "  [bigquery-samples:wikipedia_benchmark.Wiki10B]\n",
    "WHERE\n",
    "  REGEXP_MATCH(title, r' Hello ')\n",
    "GROUP BY\n",
    "  title\n",
    "ORDER BY\n",
    "  views DESC\n",
    "LIMIT \n",
    "  10"
   ]
  },
  {
   "cell_type": "code",
   "execution_count": null,
   "metadata": {
    "collapsed": true
   },
   "outputs": [],
   "source": []
  }
 ],
 "metadata": {
  "kernelspec": {
   "display_name": "Python 2",
   "language": "python",
   "name": "python2"
  },
  "language_info": {
   "codemirror_mode": {
    "name": "ipython",
    "version": 2
   },
   "file_extension": ".py",
   "mimetype": "text/x-python",
   "name": "python",
   "nbconvert_exporter": "python",
   "pygments_lexer": "ipython2",
   "version": "2.7.9"
  }
 },
 "nbformat": 4,
 "nbformat_minor": 2
}
