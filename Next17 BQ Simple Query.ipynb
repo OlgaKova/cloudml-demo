{
 "cells": [
  {
   "cell_type": "markdown",
   "metadata": {},
   "source": [
    "## Full scan on 10B rows of Wikimedia logs"
   ]
  },
  {
   "cell_type": "code",
   "execution_count": 4,
   "metadata": {
    "collapsed": false
   },
   "outputs": [
    {
     "data": {
      "text/html": [
       "\n",
       "    <div class=\"bqtv\" id=\"4_149943648861\"><table><tr><th>title</th><th>views</th></tr><tr><td>Do As Infinity -Final-</td><td>1192</td></tr><tr><td>The Infinity Project</td><td>279</td></tr><tr><td>Split Infinity Radio (band)</td><td>244</td></tr><tr><td>The Infinity Gauntlet</td><td>210</td></tr><tr><td>Adventure Quest World Infinity Gold Hack</td><td>162</td></tr><tr><td>Do As Infinity (band)</td><td>157</td></tr><tr><td>Do As Infinity discography</td><td>140</td></tr><tr><td>The Infinity Project_(artist)</td><td>122</td></tr><tr><td>Split Infinity Radio (grupa muzyczna)</td><td>118</td></tr><tr><td>J Cole Til Infinity Warm Up Lyrics</td><td>116</td></tr></table></div>\n",
       "    <br />(rows: 10, time: 6.3s,   399GB processed, job: job_-1wAXECiX8JX3pjV8_xcTgrC1Js)<br />\n",
       "    <script>\n",
       "\n",
       "      require.config({\n",
       "        paths: {\n",
       "          d3: '//cdnjs.cloudflare.com/ajax/libs/d3/3.4.13/d3',\n",
       "          plotly: 'https://cdn.plot.ly/plotly-1.5.1.min.js?noext',\n",
       "          jquery: '//ajax.googleapis.com/ajax/libs/jquery/2.0.0/jquery.min'\n",
       "        },\n",
       "        map: {\n",
       "          '*': {\n",
       "            datalab: 'nbextensions/gcpdatalab'\n",
       "          }\n",
       "        },\n",
       "        shim: {\n",
       "          plotly: {\n",
       "            deps: ['d3', 'jquery'],\n",
       "            exports: 'plotly'\n",
       "          }\n",
       "        }\n",
       "      });\n",
       "\n",
       "      require(['datalab/charting', 'datalab/element!4_149943648861', 'base/js/events',\n",
       "          'datalab/style!/nbextensions/gcpdatalab/charting.css'],\n",
       "        function(charts, dom, events) {\n",
       "          charts.render('gcharts', dom, events, 'table', [], {\"rows\": [{\"c\": [{\"v\": \"Do As Infinity -Final-\"}, {\"v\": 1192}]}, {\"c\": [{\"v\": \"The Infinity Project\"}, {\"v\": 279}]}, {\"c\": [{\"v\": \"Split Infinity Radio (band)\"}, {\"v\": 244}]}, {\"c\": [{\"v\": \"The Infinity Gauntlet\"}, {\"v\": 210}]}, {\"c\": [{\"v\": \"Adventure Quest World Infinity Gold Hack\"}, {\"v\": 162}]}, {\"c\": [{\"v\": \"Do As Infinity (band)\"}, {\"v\": 157}]}, {\"c\": [{\"v\": \"Do As Infinity discography\"}, {\"v\": 140}]}, {\"c\": [{\"v\": \"The Infinity Project_(artist)\"}, {\"v\": 122}]}, {\"c\": [{\"v\": \"Split Infinity Radio (grupa muzyczna)\"}, {\"v\": 118}]}, {\"c\": [{\"v\": \"J Cole Til Infinity Warm Up Lyrics\"}, {\"v\": 116}]}], \"cols\": [{\"type\": \"string\", \"id\": \"title\", \"label\": \"title\"}, {\"type\": \"number\", \"id\": \"views\", \"label\": \"views\"}]},\n",
       "            {\n",
       "              pageSize: 25,\n",
       "              cssClassNames:  {\n",
       "                tableRow: 'gchart-table-row',\n",
       "                headerRow: 'gchart-table-headerrow',\n",
       "                oddTableRow: 'gchart-table-oddrow',\n",
       "                selectedTableRow: 'gchart-table-selectedrow',\n",
       "                hoverTableRow: 'gchart-table-hoverrow',\n",
       "                tableCell: 'gchart-table-cell',\n",
       "                headerCell: 'gchart-table-headercell',\n",
       "                rowNumberCell: 'gchart-table-rownumcell'\n",
       "              }\n",
       "            },\n",
       "            {source_index: 1, fields: 'title,views', legacy: 'true'},\n",
       "            0,\n",
       "            10);\n",
       "        }\n",
       "      );\n",
       "    </script>\n",
       "  "
      ],
      "text/plain": [
       "QueryResultsTable job_-1wAXECiX8JX3pjV8_xcTgrC1Js"
      ]
     },
     "execution_count": 4,
     "metadata": {},
     "output_type": "execute_result"
    }
   ],
   "source": [
    "%%sql\n",
    "SELECT\n",
    "  title,\n",
    "  SUM(views) AS views\n",
    "FROM\n",
    "  [bigquery-samples:wikipedia_benchmark.Wiki10B]\n",
    "WHERE\n",
    "  REGEXP_MATCH(title, r' Infinity ')\n",
    "GROUP BY\n",
    "  title\n",
    "ORDER BY\n",
    "  views DESC\n",
    "LIMIT \n",
    "  10"
   ]
  },
  {
   "cell_type": "code",
   "execution_count": null,
   "metadata": {
    "collapsed": true
   },
   "outputs": [],
   "source": []
  }
 ],
 "metadata": {
  "kernelspec": {
   "display_name": "Python 2",
   "language": "python",
   "name": "python2"
  },
  "language_info": {
   "codemirror_mode": {
    "name": "ipython",
    "version": 2
   },
   "file_extension": ".py",
   "mimetype": "text/x-python",
   "name": "python",
   "nbconvert_exporter": "python",
   "pygments_lexer": "ipython2",
   "version": "2.7.9"
  }
 },
 "nbformat": 4,
 "nbformat_minor": 2
}
